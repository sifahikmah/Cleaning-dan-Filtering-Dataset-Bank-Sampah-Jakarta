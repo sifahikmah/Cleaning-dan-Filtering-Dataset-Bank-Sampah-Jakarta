{
  "nbformat": 4,
  "nbformat_minor": 0,
  "metadata": {
    "colab": {
      "provenance": []
    },
    "kernelspec": {
      "name": "python3",
      "display_name": "Python 3"
    },
    "language_info": {
      "name": "python"
    }
  },
  "cells": [
    {
      "cell_type": "code",
      "execution_count": 1,
      "metadata": {
        "id": "JgyfPYKdJJND"
      },
      "outputs": [],
      "source": [
        "import pandas as pd\n",
        "import numpy as np"
      ]
    },
    {
      "cell_type": "code",
      "source": [
        "# Load data\n",
        "data = pd.read_csv('bank sampah.csv')\n",
        "\n",
        "# Menampilkan beberapa baris pertama untuk melihat struktur data\n",
        "print(\"Data awal:\")\n",
        "print(data.head())"
      ],
      "metadata": {
        "colab": {
          "base_uri": "https://localhost:8080/"
        },
        "id": "WK7EwoQ3KZsU",
        "outputId": "72b5c40d-c68a-4130-879a-009c765d158b"
      },
      "execution_count": 2,
      "outputs": [
        {
          "output_type": "stream",
          "name": "stdout",
          "text": [
            "Data awal:\n",
            "   periode_data         nama_bank_sampah  \\\n",
            "0          2022                   SDN 17   \n",
            "1          2022                   SDN 03   \n",
            "2          2022           KENANGGA RW 05   \n",
            "3          2022  PPSU Kel. Keby.Lama Sel   \n",
            "4          2022                SMPN. 164   \n",
            "\n",
            "                                     alamat          kelurahan  \\\n",
            "0                Jl. Praja Dalam G RT.04 05  Keb. Lama Selatan   \n",
            "1           Jl. Ciputat Raya No. 125 RW 008  Keb. Lama Selatan   \n",
            "2                  Jl. Ciputat Raya RW. 005  Keb. Lama Selatan   \n",
            "3  Jl. Bungur No. 1 RT 02 12 Keby. Lama Sel  Keb. Lama Selatan   \n",
            "4   Jl. Dharma Putra Raya No. 51 RT 007 007  Keb. Lama Selatan   \n",
            "\n",
            "        kecamatan          wilayah                   kegiatan status_kegiatan  \\\n",
            "0  Kebayoran Lama  Jakarta Selatan  pemilahan dan pengumpulan     Tidak Aktif   \n",
            "1  Kebayoran Lama  Jakarta Selatan  pemilahan dan pengumpulan     Tidak Aktif   \n",
            "2  Kebayoran Lama  Jakarta Selatan  pemilahan dan pengumpulan     Tidak Aktif   \n",
            "3  Kebayoran Lama  Jakarta Selatan  pemilahan dan pengumpulan           Aktif   \n",
            "4  Kebayoran Lama  Jakarta Selatan  pemilahan dan pengumpulan     Tidak Aktif   \n",
            "\n",
            "  keterangan  \n",
            "0        BSU  \n",
            "1        BSU  \n",
            "2        BSU  \n",
            "3        BSU  \n",
            "4        BSU  \n"
          ]
        }
      ]
    },
    {
      "cell_type": "code",
      "source": [
        "# Cek jumlah missing value di setiap kolom\n",
        "missing_values = data.isnull().sum()\n",
        "print(\"Missing values per column:\")\n",
        "print(missing_values)"
      ],
      "metadata": {
        "colab": {
          "base_uri": "https://localhost:8080/"
        },
        "id": "P8BuperUKo1M",
        "outputId": "34e22d77-01cb-4ba9-f7c1-6f350d53d0fc"
      },
      "execution_count": 3,
      "outputs": [
        {
          "output_type": "stream",
          "name": "stdout",
          "text": [
            "Missing values per column:\n",
            "periode_data        0\n",
            "nama_bank_sampah    0\n",
            "alamat              0\n",
            "kelurahan           0\n",
            "kecamatan           0\n",
            "wilayah             0\n",
            "kegiatan            0\n",
            "status_kegiatan     0\n",
            "keterangan          0\n",
            "dtype: int64\n"
          ]
        }
      ]
    },
    {
      "cell_type": "code",
      "source": [
        "# Ganti tanda '-' menjadi NaN di seluruh dataset\n",
        "data.replace('-', np.nan, inplace=True)\n",
        "\n",
        "# Cek missing valuer setelah mengganti '-'\n",
        "missing_values_after = data.isnull().sum()\n",
        "print(\"Missing values per column setelah mengganti '-':\")\n",
        "print(missing_values_after)\n",
        "\n",
        "# Jumlah data sebelum missing values dihapus\n",
        "total_rows_before = data.shape[0]\n",
        "print(\"Jumlah data sebelum menghapus missing values:\", total_rows_before)"
      ],
      "metadata": {
        "colab": {
          "base_uri": "https://localhost:8080/"
        },
        "id": "EuaqVs0CKsW8",
        "outputId": "6d28a429-6fc6-4069-c642-a288d52f1dcd"
      },
      "execution_count": 4,
      "outputs": [
        {
          "output_type": "stream",
          "name": "stdout",
          "text": [
            "Missing values per column setelah mengganti '-':\n",
            "periode_data          0\n",
            "nama_bank_sampah      0\n",
            "alamat                0\n",
            "kelurahan             0\n",
            "kecamatan             0\n",
            "wilayah               0\n",
            "kegiatan            575\n",
            "status_kegiatan     161\n",
            "keterangan            0\n",
            "dtype: int64\n",
            "Jumlah data sebelum menghapus missing values: 2771\n"
          ]
        }
      ]
    },
    {
      "cell_type": "code",
      "source": [
        "# Hapus baris dengan missing value (karena hanya membutuhkan 10 data bank sampah per wilayah)\n",
        "data_cleaned = data.dropna(subset=['kegiatan','status_kegiatan'])\n",
        "\n",
        "# Filter data dengan status \"Aktif\" saja\n",
        "data_cleaned = data_cleaned[data_cleaned['status_kegiatan'] == 'Aktif']\n",
        "\n",
        "# Cek data setelah cleaned\n",
        "print(\"Missing values setelah cleaned:\")\n",
        "print(data_cleaned.isnull().sum())\n",
        "\n",
        "# Tampilkan jumlah data setelah missing values dihapus\n",
        "print(\"Jumlah data setelah missing values dihapus:\", data_cleaned.shape[0])"
      ],
      "metadata": {
        "colab": {
          "base_uri": "https://localhost:8080/"
        },
        "id": "Is6LI2pKK6Ak",
        "outputId": "a483c189-856e-469d-9d01-fa43742c603e"
      },
      "execution_count": 5,
      "outputs": [
        {
          "output_type": "stream",
          "name": "stdout",
          "text": [
            "Missing values setelah cleaned:\n",
            "periode_data        0\n",
            "nama_bank_sampah    0\n",
            "alamat              0\n",
            "kelurahan           0\n",
            "kecamatan           0\n",
            "wilayah             0\n",
            "kegiatan            0\n",
            "status_kegiatan     0\n",
            "keterangan          0\n",
            "dtype: int64\n",
            "Jumlah data setelah missing values dihapus: 1523\n"
          ]
        }
      ]
    },
    {
      "cell_type": "code",
      "source": [
        "# Hapus kolom yang tidak diperlukan dan perbarui data_cleaned\n",
        "data_cleaned = data_cleaned.drop(columns=['periode_data', 'keterangan', 'kegiatan', 'status_kegiatan'])\n",
        "\n",
        "# Menampilkan hasil untuk memastikan kolom sudah terhapus\n",
        "print(data_cleaned.head())"
      ],
      "metadata": {
        "colab": {
          "base_uri": "https://localhost:8080/"
        },
        "id": "IvPnuL7uLK9c",
        "outputId": "150a64d3-a5bc-47f6-a4b9-c725cfd605bf"
      },
      "execution_count": 6,
      "outputs": [
        {
          "output_type": "stream",
          "name": "stdout",
          "text": [
            "           nama_bank_sampah                                    alamat  \\\n",
            "3   PPSU Kel. Keby.Lama Sel  Jl. Bungur No. 1 RT 02 12 Keby. Lama Sel   \n",
            "5                      SOKA                 RW. 12 Keby. Lama selatan   \n",
            "7   Restan Kantor Kecamatan     Jl. Dharma Putra Jaya No. 51 RT 07 07   \n",
            "8         Gemilang I Satpel         Jl. Delman Asri III, Ciputat Raya   \n",
            "10      Kebal Maut PPSU KLU       Jl. Ciputat Raya No. 20A RT 003 003   \n",
            "\n",
            "            kelurahan       kecamatan          wilayah  \n",
            "3   Keb. Lama Selatan  Kebayoran Lama  Jakarta Selatan  \n",
            "5   Keb. Lama Selatan  Kebayoran Lama  Jakarta Selatan  \n",
            "7   Keb. Lama Selatan  Kebayoran Lama  Jakarta Selatan  \n",
            "8      Keb.Lama Utara  Kebayoran Lama  Jakarta Selatan  \n",
            "10     Keb.Lama Utara  Kebayoran Lama  Jakarta Selatan  \n"
          ]
        }
      ]
    },
    {
      "cell_type": "code",
      "source": [
        "# Melihat jumlah wilayah yang unik\n",
        "jumlah_wilayah = data_cleaned['wilayah'].nunique()\n",
        "print(\"Jumlah wilayah yang unik:\", jumlah_wilayah)\n",
        "\n",
        "# Melihat daftar wilayah yang unik\n",
        "unique_wilayah = data_cleaned['wilayah'].unique()\n",
        "print(\"Daftar wilayah yang unik:\", unique_wilayah)"
      ],
      "metadata": {
        "colab": {
          "base_uri": "https://localhost:8080/"
        },
        "id": "zSSQvRDaPFsN",
        "outputId": "2d187962-3971-427d-de5e-f4939da8cca8"
      },
      "execution_count": 7,
      "outputs": [
        {
          "output_type": "stream",
          "name": "stdout",
          "text": [
            "Jumlah wilayah yang unik: 5\n",
            "Daftar wilayah yang unik: ['Jakarta Selatan' 'Jakarta Timur' 'Jakarta barat' 'Jakarta Barat'\n",
            " 'Jakarta Pusat']\n"
          ]
        }
      ]
    },
    {
      "cell_type": "code",
      "source": [
        "# Normalisasi karena ada format penulisan yg tidak konsisten\n",
        "# Mengubah nama wilayah menjadi konsisten (misalnya, semua huruf besar)\n",
        "data_cleaned['wilayah'] = data_cleaned['wilayah'].str.title()  # Mengubah menjadi title case (huruf pertama tiap kata kapital)\n",
        "\n",
        "# Menghapus spasi yang tidak perlu (leading/trailing spaces)\n",
        "data_cleaned['wilayah'] = data_cleaned['wilayah'].str.strip()\n",
        "\n",
        "# Cek apakah sudah tidak ada lagi duplikat pada kolom 'wilayah'\n",
        "print(data_cleaned['wilayah'].unique())  # Menampilkan nilai unik pada kolom wilayah\n",
        "\n",
        "# Tampilkan data yang sudah diperbaiki\n",
        "print(data_cleaned.head())"
      ],
      "metadata": {
        "colab": {
          "base_uri": "https://localhost:8080/"
        },
        "id": "iw8rarSRPcuM",
        "outputId": "c1b08ee1-ca81-40df-8f8d-1c58097da751"
      },
      "execution_count": 8,
      "outputs": [
        {
          "output_type": "stream",
          "name": "stdout",
          "text": [
            "['Jakarta Selatan' 'Jakarta Timur' 'Jakarta Barat' 'Jakarta Pusat']\n",
            "           nama_bank_sampah                                    alamat  \\\n",
            "3   PPSU Kel. Keby.Lama Sel  Jl. Bungur No. 1 RT 02 12 Keby. Lama Sel   \n",
            "5                      SOKA                 RW. 12 Keby. Lama selatan   \n",
            "7   Restan Kantor Kecamatan     Jl. Dharma Putra Jaya No. 51 RT 07 07   \n",
            "8         Gemilang I Satpel         Jl. Delman Asri III, Ciputat Raya   \n",
            "10      Kebal Maut PPSU KLU       Jl. Ciputat Raya No. 20A RT 003 003   \n",
            "\n",
            "            kelurahan       kecamatan          wilayah  \n",
            "3   Keb. Lama Selatan  Kebayoran Lama  Jakarta Selatan  \n",
            "5   Keb. Lama Selatan  Kebayoran Lama  Jakarta Selatan  \n",
            "7   Keb. Lama Selatan  Kebayoran Lama  Jakarta Selatan  \n",
            "8      Keb.Lama Utara  Kebayoran Lama  Jakarta Selatan  \n",
            "10     Keb.Lama Utara  Kebayoran Lama  Jakarta Selatan  \n"
          ]
        }
      ]
    },
    {
      "cell_type": "code",
      "source": [
        "# Melihat jumlah wilayah yang unik setelah normalisasi\n",
        "jumlah_wilayah = data_cleaned['wilayah'].nunique()\n",
        "print(\"Jumlah wilayah yang unik setelah normalisasi:\", jumlah_wilayah)\n",
        "\n",
        "# Melihat daftar wilayah yang unik setelah normalisasi\n",
        "unique_wilayah = data_cleaned['wilayah'].unique()\n",
        "print(\"Daftar wilayah yang unik setelah normalisasi:\", unique_wilayah)"
      ],
      "metadata": {
        "colab": {
          "base_uri": "https://localhost:8080/"
        },
        "id": "SfhCe_9uPg4M",
        "outputId": "ef8eeecd-282a-4be3-8b0d-5bec46e4b6f5"
      },
      "execution_count": 15,
      "outputs": [
        {
          "output_type": "stream",
          "name": "stdout",
          "text": [
            "Jumlah wilayah yang unik setelah normalisasi: 4\n",
            "Daftar wilayah yang unik setelah normalisasi: ['Jakarta Selatan' 'Jakarta Timur' 'Jakarta Barat' 'Jakarta Pusat']\n"
          ]
        }
      ]
    },
    {
      "cell_type": "code",
      "source": [
        "# Simpan data cleaned\n",
        "data_cleaned.to_csv('data_cleaned.csv', index=False)"
      ],
      "metadata": {
        "id": "jVl3m5V9Xukd"
      },
      "execution_count": 17,
      "outputs": []
    },
    {
      "cell_type": "code",
      "source": [
        "# Ambil maksimal 10 data per wilayah yang tersebar di berbagai kecamatan dan kelurahan\n",
        "filtered_data = data_cleaned.groupby('wilayah').apply(lambda x: x.head(10)).reset_index(drop=True)\n",
        "\n",
        "# Urutkan data berdasarkan wilayah, kecamatan, dan kelurahan\n",
        "filtered_data = filtered_data.sort_values(by=['wilayah', 'kecamatan', 'kelurahan'])\n",
        "\n",
        "# Tampilkan hasil\n",
        "print(filtered_data)"
      ],
      "metadata": {
        "colab": {
          "base_uri": "https://localhost:8080/"
        },
        "id": "aI2hUkfcP8bE",
        "outputId": "855df111-9874-406b-816b-88ecbeddd448"
      },
      "execution_count": 11,
      "outputs": [
        {
          "output_type": "stream",
          "name": "stdout",
          "text": [
            "                    nama_bank_sampah  \\\n",
            "0    BS Cemulangpah SDN 07 Kalideres   \n",
            "1          BS Sahabat SMA 84 Jakarta   \n",
            "2                    BS Merah Delima   \n",
            "3     BS Mitra Sukses Mandiri Rw. 11   \n",
            "4                       BS LPS Rw 08   \n",
            "5                BS Katarina Citra 1   \n",
            "6                    BS Kabela RW 04   \n",
            "7               BS KWT SOKA MERAH 11   \n",
            "8                      BS AL BAROKAH   \n",
            "9                      bisa citra 16   \n",
            "10                  Istana Watimpres   \n",
            "11                  Asri Kemenko PMK   \n",
            "12  Peduli Gambir Kantor Kel. Gambir   \n",
            "13                            SMK 02   \n",
            "14                 Kel. Kebon kelapa   \n",
            "15               CMPK SD Santa maria   \n",
            "16                kantor Kec. Gambir   \n",
            "17                           SMPN 94   \n",
            "18                    Cempaka Rw. 02   \n",
            "19                     Mandiri Rw.07   \n",
            "20           PPSU Kel. Keby.Lama Sel   \n",
            "21                              SOKA   \n",
            "22           Restan Kantor Kecamatan   \n",
            "23                 Gemilang I Satpel   \n",
            "24               Kebal Maut PPSU KLU   \n",
            "25                        Nusa Indah   \n",
            "26                           SMAN 47   \n",
            "27                           SMAN 29   \n",
            "28                            SDN 07   \n",
            "29                         Teratai I   \n",
            "33                 Bank Sampah Ceria   \n",
            "34          Bank Sampah Bina Bersama   \n",
            "35                      Bank Mandiri   \n",
            "36   Bank Sampah Pari Bersih Berseri   \n",
            "37                 Punaga Jaya RW.01   \n",
            "38                 Kelor Indah RW.02   \n",
            "39        Bank Sampah Ilalang Bersih   \n",
            "30           Bank Sampah Arsa Bahari   \n",
            "31                 Bank Sampah Ceria   \n",
            "32                Bank Sampah Sakura   \n",
            "\n",
            "                                          alamat          kelurahan  \\\n",
            "0              Jl.Peta Selatan no.7B Rt. 010 001          Kalideres   \n",
            "1      Jl.Peta Barat no.42 RT 01 Rw 09 Kalideres          Kalideres   \n",
            "2                               Jl. Peta Selatan          Kalideres   \n",
            "3                                     Bulak Teko          Kalideres   \n",
            "4                           l. Perumahan Citra 1          Kalideres   \n",
            "5                          Perumahan Citra 1 Ext          Kalideres   \n",
            "6                          Jl. kampung bali rw04          Kalideres   \n",
            "7             Kmp. Bulak Teko Jl. Belimbing Raya          Kalideres   \n",
            "8                                   Jl Kamp Bali          Kalideres   \n",
            "9                                  Komp. Citra 1          Kalideres   \n",
            "10                               Jl. Veteran III             Gambir   \n",
            "11                        jl. Merdeka Barat No 3             Gambir   \n",
            "12                      Jl. Budi Kemuliaan NO 12             Gambir   \n",
            "13                                 Jl. Batu NO 3             Gambir   \n",
            "14                            Jl. Batu Tulis VII       Kebon Kelapa   \n",
            "15                       Jl. Ir. H. Juanda No.29       Kebon Kelapa   \n",
            "16                      Jl. Tanah Abang I No. 10     Petojo Selatan   \n",
            "17  Jl. Tanah Abang V No. 29 Kel. Petojo Selatan     Petojo Selatan   \n",
            "18                            Jl. Kebon Jahe VII     Petojo Selatan   \n",
            "19                        Jl. Petojo Enclek VIII     Petojo Selatan   \n",
            "20      Jl. Bungur No. 1 RT 02 12 Keby. Lama Sel  Keb. Lama Selatan   \n",
            "21                     RW. 12 Keby. Lama selatan  Keb. Lama Selatan   \n",
            "22         Jl. Dharma Putra Jaya No. 51 RT 07 07  Keb. Lama Selatan   \n",
            "23             Jl. Delman Asri III, Ciputat Raya     Keb.Lama Utara   \n",
            "24           Jl. Ciputat Raya No. 20A RT 003 003     Keb.Lama Utara   \n",
            "25                          Jl. Makmur Rt. 03 03     Keb.Lama Utara   \n",
            "26                   Jl. Delman Utara I RT.01 11     Keb.Lama Utara   \n",
            "27                  Jl. Jl. Kramat No.6 RT.07 01     Keb.Lama Utara   \n",
            "28                                 Jl. Bendi VII     Keb.Lama Utara   \n",
            "29                     Jl. Bendi Raya RT 005 010     Keb.Lama Utara   \n",
            "33                       Pulau lancang Rt 002 01         Pulau Pari   \n",
            "34                       pulau lancang Rt 002 03         Pulau Pari   \n",
            "35                       Pulau Lancang Rt 002 02         Pulau Pari   \n",
            "36               Jalan Utama Pulau Pari RT 02 04         Pulau Pari   \n",
            "37                           Pulau Tidung 001 01       Pulau Tidung   \n",
            "38                           Pulau Tidung 003 02       Pulau Tidung   \n",
            "39                        Pulau Tidung Rt 005 03       Pulau Tidung   \n",
            "30                   Jl. Nirwana No. 35 RT 02 01  Pulau Untung Jawa   \n",
            "31                    Pulau Untung Jawa RT 02 02  Pulau Untung Jawa   \n",
            "32                     Jl. Karang Kroya RT 03 03  Pulau Untung Jawa   \n",
            "\n",
            "         kecamatan          wilayah  \n",
            "0        Kalideres    Jakarta Barat  \n",
            "1        Kalideres    Jakarta Barat  \n",
            "2        Kalideres    Jakarta Barat  \n",
            "3        Kalideres    Jakarta Barat  \n",
            "4        Kalideres    Jakarta Barat  \n",
            "5        Kalideres    Jakarta Barat  \n",
            "6        Kalideres    Jakarta Barat  \n",
            "7        Kalideres    Jakarta Barat  \n",
            "8        Kalideres    Jakarta Barat  \n",
            "9        Kalideres    Jakarta Barat  \n",
            "10          Gambir    Jakarta Pusat  \n",
            "11          Gambir    Jakarta Pusat  \n",
            "12          Gambir    Jakarta Pusat  \n",
            "13          Gambir    Jakarta Pusat  \n",
            "14          Gambir    Jakarta Pusat  \n",
            "15          Gambir    Jakarta Pusat  \n",
            "16          Gambir    Jakarta Pusat  \n",
            "17          Gambir    Jakarta Pusat  \n",
            "18          Gambir    Jakarta Pusat  \n",
            "19          Gambir    Jakarta Pusat  \n",
            "20  Kebayoran Lama  Jakarta Selatan  \n",
            "21  Kebayoran Lama  Jakarta Selatan  \n",
            "22  Kebayoran Lama  Jakarta Selatan  \n",
            "23  Kebayoran Lama  Jakarta Selatan  \n",
            "24  Kebayoran Lama  Jakarta Selatan  \n",
            "25  Kebayoran Lama  Jakarta Selatan  \n",
            "26  Kebayoran Lama  Jakarta Selatan  \n",
            "27  Kebayoran Lama  Jakarta Selatan  \n",
            "28  Kebayoran Lama  Jakarta Selatan  \n",
            "29  Kebayoran Lama  Jakarta Selatan  \n",
            "33  Seribu Selatan    Jakarta Timur  \n",
            "34  Seribu Selatan    Jakarta Timur  \n",
            "35  Seribu Selatan    Jakarta Timur  \n",
            "36  Seribu Selatan    Jakarta Timur  \n",
            "37  Seribu Selatan    Jakarta Timur  \n",
            "38  Seribu Selatan    Jakarta Timur  \n",
            "39  Seribu Selatan    Jakarta Timur  \n",
            "30  Seribu Selatan    Jakarta Timur  \n",
            "31  Seribu Selatan    Jakarta Timur  \n",
            "32  Seribu Selatan    Jakarta Timur  \n"
          ]
        },
        {
          "output_type": "stream",
          "name": "stderr",
          "text": [
            "<ipython-input-11-8f649e04eaa3>:2: DeprecationWarning: DataFrameGroupBy.apply operated on the grouping columns. This behavior is deprecated, and in a future version of pandas the grouping columns will be excluded from the operation. Either pass `include_groups=False` to exclude the groupings or explicitly select the grouping columns after groupby to silence this warning.\n",
            "  filtered_data = data_cleaned.groupby('wilayah').apply(lambda x: x.head(10)).reset_index(drop=True)\n"
          ]
        }
      ]
    },
    {
      "cell_type": "code",
      "source": [
        "# Tampilkan jumlah baris dan kolom setelah difilter\n",
        "print(\"Jumlah data setelah difilter:\", filtered_data.shape[0])"
      ],
      "metadata": {
        "colab": {
          "base_uri": "https://localhost:8080/"
        },
        "id": "o6R1Ua50YiwO",
        "outputId": "8ed83ef3-9344-4c3f-f002-d5cb970e7f7e"
      },
      "execution_count": 19,
      "outputs": [
        {
          "output_type": "stream",
          "name": "stdout",
          "text": [
            "Jumlah data setelah difilter: 40\n"
          ]
        }
      ]
    },
    {
      "cell_type": "code",
      "source": [
        "# Simpan data yang telah difilter ke file CSV\n",
        "filtered_data.to_csv('bank_sampah_fix.csv', index=False)"
      ],
      "metadata": {
        "id": "cR-obqI1Rkh9"
      },
      "execution_count": 13,
      "outputs": []
    },
    {
      "cell_type": "code",
      "source": [
        "import pandas as pd\n",
        "\n",
        "# Load data\n",
        "data = pd.read_csv('data_cleaned.csv')\n",
        "\n",
        "# Pastikan data yang ada di kolom wilayah, kecamatan, kelurahan, dan bank sampah sudah bersih\n",
        "# Ambil maksimal 10 data per wilayah dengan pengacakan dari berbagai kecamatan dan kelurahan\n",
        "filtered_data = data.groupby('wilayah').apply(lambda x: x.sample(min(10, len(x)))).reset_index(drop=True)\n",
        "\n",
        "# Urutkan data berdasarkan wilayah, kecamatan, dan kelurahan\n",
        "filtered_data = filtered_data.sort_values(by=['wilayah', 'kecamatan', 'kelurahan']).reset_index(drop=True)\n",
        "\n",
        "# Tampilkan hasil\n",
        "print(filtered_data)\n",
        "\n"
      ],
      "metadata": {
        "colab": {
          "base_uri": "https://localhost:8080/"
        },
        "id": "WnIrZf0hXeg_",
        "outputId": "1e372a32-a7e3-4d01-cdbd-010af3580299"
      },
      "execution_count": 18,
      "outputs": [
        {
          "output_type": "stream",
          "name": "stdout",
          "text": [
            "                     nama_bank_sampah  \\\n",
            "0                      CAMELIA RW. 14   \n",
            "1                SDN Jelambar Baru 05   \n",
            "2              Bs. Tawakal Jaya RW 09   \n",
            "3   Wijaya Mandiri Kel. Wijaya Kusuma   \n",
            "4                   BS RSUD Kalideres   \n",
            "5                        Mawar Garden   \n",
            "6                      Benyamin RW 02   \n",
            "7                 Bank Sampah SMPN 88   \n",
            "8      USMAN Usaha Mandiri Kel.Jembes   \n",
            "9                     RW 09 Kalianyar   \n",
            "10              Melati Pasar Gembrong   \n",
            "11                        Bougenville   \n",
            "12                Cempaka Abadi Sapel   \n",
            "13                        Pucuk Merah   \n",
            "14             Lagura 18 RT 018 RW 03   \n",
            "15                        Baper Seven   \n",
            "16                Cempaka RT 09 RW 03   \n",
            "17                             SMK 02   \n",
            "18                              Rw.08   \n",
            "19              Green Pandawa SMKN 19   \n",
            "20                    SMKN 41 Jakarta   \n",
            "21                         Nusa Indah   \n",
            "22                 Pinang Indah RW 04   \n",
            "23                 SDN. Duren 05 Pagi   \n",
            "24           Kantr. Kec. Pasar Minggu   \n",
            "25             Kecamatan Pesanggrahan   \n",
            "26                      Adira Finance   \n",
            "27                      Setia 21 PPSU   \n",
            "28                   MARSELA 07 RW.07   \n",
            "29               Puskesmas Kec. Tebet   \n",
            "30             Berkah Srikandi Rw. 01   \n",
            "31                  Rw.13 Bidara Cina   \n",
            "32                       Rw.02 Melati   \n",
            "33                        Bina Bersih   \n",
            "34                RW 03 Kebon Manggis   \n",
            "35      Kasela Dipo Utan Kayu Selatan   \n",
            "36                            Kenanga   \n",
            "37          Matahari Rw 09 Pulogadung   \n",
            "38                  Rw 01 Pulo Gadung   \n",
            "39                   Rw 08 Rawamangun   \n",
            "\n",
            "                                               alamat  \\\n",
            "0                        Jl. Rawa Kedaung Rt. 006 014   \n",
            "1             Jl. Jelambar Selatan XVI No.14 RT.01 09   \n",
            "2                     Jl. Tawakal 10 a No.1 RT. 01 09   \n",
            "3                Jl. Wijaya Kusuma II No. 2 Rt. 05 05   \n",
            "4                                      Jl. Satu Maret   \n",
            "5   Jl. Komp. Green Garden Blok C2 No.12 RT 09 RW ...   \n",
            "6                 Jl. Sasak II RT 06 RW 02 Kelapa Dua   \n",
            "7                                   Jl Anggrek Garuda   \n",
            "8                               Jl. Jembatan Besi VII   \n",
            "9                                       JL. Kalianyar   \n",
            "10                  Jl. Pangkalan Asem Raya RT.008 02   \n",
            "11                   Jl. Cempaka I RT. 007 009 No. 21   \n",
            "12      Komp. Perkantoran Rawakerbau Rawasari Selatan   \n",
            "13                            Jl. Cempaka Putih Timur   \n",
            "14                       Jl. Cempaka Putih Timur XVII   \n",
            "15                                 Jl. Rawasari Barat   \n",
            "16                       Jl. Cempaka Putih Timur XVII   \n",
            "17                                      Jl. Batu NO 3   \n",
            "18                                     Jl. Karnolog 1   \n",
            "19                            Jl. Danau Limboto No 11   \n",
            "20                         Jl. Komp. Timah RT.001 003   \n",
            "21                               Jl. Makmur Rt. 03 03   \n",
            "22       Jl. H. Muhni RW. 04 Kel. Pondok Pinang RPTRA   \n",
            "23           Jl. Guru Alip Minyak 1 No, 40 RT.005 006   \n",
            "24                                 Jl. Ragunan No. 16   \n",
            "25                             Jl. Pesanggrahan Indah   \n",
            "26                                 Jl. Jend. Sudirman   \n",
            "27                Jl. Setiabudi BaratNo.8L RT 003 003   \n",
            "28                           Jl. Rambutan RT.03 RW.07   \n",
            "29               Jl. Tebet Timur IIA No. 2 RT 006 002   \n",
            "30                Jl. Balai Rakyat III Rt. 013 Rw. 01   \n",
            "31                       Jl. Asrama Polri RT 01 RW 13   \n",
            "32           Jl. Pangeran RT 003 002 Kel. Balekambang   \n",
            "33                             Jl. gading Rt 02 Rw 01   \n",
            "34                       Jl. Kesatriaan IX RT.17 RW.3   \n",
            "35                    Jl. Galur Sari Timur RT.13 RW.1   \n",
            "36                        Lapangan Porpamas RT.7 RW.7   \n",
            "37                                 Jl. Kayu Mas Utara   \n",
            "38                           Jl. Perintis Kemerdekaan   \n",
            "39                        Jl. Pinang Raya RT 04 RW 08   \n",
            "\n",
            "                     kelurahan          kecamatan          wilayah  \n",
            "0   Kelurahan Cengkareng Timur         Cengkareng    Jakarta Barat  \n",
            "1                Jelambar baru  Grogol Petamburan    Jakarta Barat  \n",
            "2                       Tomang  Grogol Petamburan    Jakarta Barat  \n",
            "3                wijaya kusuma  Grogol Petamburan    Jakarta Barat  \n",
            "4                   Pegadungan          Kalideres    Jakarta Barat  \n",
            "5                 Kedoya Utara        Kebon Jeruk    Jakarta Barat  \n",
            "6                   Kelapa Dua        Kebon Jeruk    Jakarta Barat  \n",
            "7                  Kemanggisan           Palmerah    Jakarta Barat  \n",
            "8                Jembatan Besi            Tambora    Jakarta Barat  \n",
            "9                    Kalianyar            Tambora    Jakarta Barat  \n",
            "10         Cempaka Putih Barat      Cempaka Putih    Jakarta Pusat  \n",
            "11         Cempaka Putih Barat      Cempaka Putih    Jakarta Pusat  \n",
            "12         Cempaka Putih Timur      Cempaka Putih    Jakarta Pusat  \n",
            "13         Cempaka Putih Timur      Cempaka Putih    Jakarta Pusat  \n",
            "14         Cempaka Putih Timur      Cempaka Putih    Jakarta Pusat  \n",
            "15         Cempaka Putih Timur      Cempaka Putih    Jakarta Pusat  \n",
            "16         Cempaka Putih Timur      Cempaka Putih    Jakarta Pusat  \n",
            "17                      Gambir             Gambir    Jakarta Pusat  \n",
            "18                      Kenari              Senen    Jakarta Pusat  \n",
            "19             Bendungan Hilir        Tanah Abang    Jakarta Pusat  \n",
            "20                 Pondok Labu           Cilandak  Jakarta Selatan  \n",
            "21              Keb.Lama Utara     Kebayoran Lama  Jakarta Selatan  \n",
            "22               Pondok Pinang     Kebayoran Lama  Jakarta Selatan  \n",
            "23                  Duren Tiga           Pancoran  Jakarta Selatan  \n",
            "24                 Jati Padang       Pasar Minggu  Jakarta Selatan  \n",
            "25                Pesanggrahan       Pesanggrahan  Jakarta Selatan  \n",
            "26              Karet Kuningan          Setiabudi  Jakarta Selatan  \n",
            "27                   Setiabudi          Setiabudi  Jakarta Selatan  \n",
            "28           Manggarai Selatan              Tebet  Jakarta Selatan  \n",
            "29                 Tebet Timur              Tebet  Jakarta Selatan  \n",
            "30                Pondok Bambu        Duren Sawit    Jakarta Timur  \n",
            "31                 Bidara Cina         Jatinegara    Jakarta Timur  \n",
            "32                 Balekambang        Kramat Jati    Jakarta Timur  \n",
            "33                 Kramat Jati        Kramat Jati    Jakarta Timur  \n",
            "34               Kebon Manggis           Matraman    Jakarta Timur  \n",
            "35           Utan Kayu Selatan           Matraman    Jakarta Timur  \n",
            "36           Utan Kayu Selatan           Matraman    Jakarta Timur  \n",
            "37                  Pulogadung         Pulogadung    Jakarta Timur  \n",
            "38                  Pulogadung         Pulogadung    Jakarta Timur  \n",
            "39                  Rawamangun         Pulogadung    Jakarta Timur  \n"
          ]
        },
        {
          "output_type": "stream",
          "name": "stderr",
          "text": [
            "<ipython-input-18-c7b5ac2625f9>:8: DeprecationWarning: DataFrameGroupBy.apply operated on the grouping columns. This behavior is deprecated, and in a future version of pandas the grouping columns will be excluded from the operation. Either pass `include_groups=False` to exclude the groupings or explicitly select the grouping columns after groupby to silence this warning.\n",
            "  filtered_data = data.groupby('wilayah').apply(lambda x: x.sample(min(10, len(x)))).reset_index(drop=True)\n"
          ]
        }
      ]
    },
    {
      "cell_type": "code",
      "source": [
        "# Tampilkan jumlah baris dan kolom setelah difilter\n",
        "print(\"Jumlah data setelah difilter:\", filtered_data.shape[0])"
      ],
      "metadata": {
        "colab": {
          "base_uri": "https://localhost:8080/"
        },
        "id": "UdKuu0PCYlbF",
        "outputId": "85e61399-584f-4fb9-cd62-0586319a727e"
      },
      "execution_count": 20,
      "outputs": [
        {
          "output_type": "stream",
          "name": "stdout",
          "text": [
            "Jumlah data setelah difilter: 40\n"
          ]
        }
      ]
    },
    {
      "cell_type": "code",
      "source": [
        "# Simpan data yang telah difilter ke file CSV\n",
        "filtered_data.to_csv('bank_sampah_fix2.csv', index=False)"
      ],
      "metadata": {
        "id": "aPl3yOy9YsDV"
      },
      "execution_count": 21,
      "outputs": []
    }
  ]
}